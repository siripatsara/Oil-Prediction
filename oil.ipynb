{
 "cells": [
  {
   "cell_type": "code",
   "execution_count": 37,
   "id": "33acd325",
   "metadata": {},
   "outputs": [],
   "source": [
    "import requests\n",
    "from datetime import datetime, date, timedelta\n",
    "import csv, os, re, time\n",
    "from selenium import webdriver\n",
    "from bs4 import BeautifulSoup\n",
    "import csv"
   ]
  },
  {
   "cell_type": "code",
   "execution_count": 32,
   "id": "90f63d77",
   "metadata": {},
   "outputs": [
    {
     "name": "stdout",
     "output_type": "stream",
     "text": [
      "<Response [200]>\n",
      "<class 'requests.models.Response'>\n"
     ]
    }
   ],
   "source": [
    "url = \"https://www.eppo.go.th/epposite/index.php/th/petroleum/price/oil-price?orders%5BpublishUp%5D=publishUp&issearch=1\"\n",
    "html_page = requests.get(url)\n",
    "\n",
    "print(html_page)\n",
    "print(type(html_page))\n"
   ]
  },
  {
   "cell_type": "code",
   "execution_count": null,
   "id": "529aaf15",
   "metadata": {},
   "outputs": [
    {
     "name": "stdout",
     "output_type": "stream",
     "text": [
      "True\n"
     ]
    }
   ],
   "source": [
    "from selenium import webdriver\n",
    "from bs4 import BeautifulSoup\n",
    "import re\n",
    "import time\n",
    "\n",
    "url = \"http://www.eppo.go.th/epposite/templates/eppo_v15_mixed/eppo_oil/eppo_oil_gen_new.php\"\n",
    "\n",
    "driver = webdriver.Chrome()\n",
    "driver.get(url)\n",
    "time.sleep(2)  # รอโหลด\n",
    "\n",
    "soup = BeautifulSoup(driver.page_source, \"html.parser\")\n",
    "driver.quit()\n",
    "\n",
    "oil_div = soup.find(\"div\", class_=\"div_oil_price\")\n",
    "print(oil_div is not None)  \n"
   ]
  },
  {
   "cell_type": "markdown",
   "id": "8ee0e871",
   "metadata": {},
   "source": [
    "## วันปัจจุบัน"
   ]
  },
  {
   "cell_type": "code",
   "execution_count": null,
   "id": "35568a15",
   "metadata": {},
   "outputs": [
    {
     "name": "stdout",
     "output_type": "stream",
     "text": [
      "{'date': datetime.date(2025, 9, 7), 'data': {'PTT': {'price_gasohol_95': '32.95', 'effective_date': '22 Aug 05:00'}, 'Bangchak': {'price_gasohol_95': '32.95', 'effective_date': '22 Aug 05:00'}, 'Shell': {'price_gasohol_95': '33.45', 'effective_date': '22 Aug 05:00'}}}\n"
     ]
    }
   ],
   "source": [
    "url = \"http://www.eppo.go.th/epposite/templates/eppo_v15_mixed/eppo_oil/eppo_oil_gen_new.php\"\n",
    "\n",
    "driver = webdriver.Chrome()\n",
    "driver.get(url)\n",
    "time.sleep(2)\n",
    "\n",
    "soup = BeautifulSoup(driver.page_source, \"html.parser\")\n",
    "driver.quit()\n",
    "\n",
    "oil_div = soup.find(\"div\", class_=\"div_oil_price\")\n",
    "\n",
    "# ===== ดึงวันที่จาก header =====\n",
    "date_header = oil_div.find(\"div\", style=re.compile(\"font-size: 2em\"))\n",
    "raw_date = date_header.get_text(strip=True).replace(\"Oil price\", \"\").strip()\n",
    "date = datetime.strptime(raw_date, \"%d %b %Y\").date()\n",
    "\n",
    "# ===== หา Gasohol 95 =====\n",
    "g95_img = oil_div.find(\"img\", {\"src\": re.compile(\"oil_name2.png\")})\n",
    "g95_row = g95_img.find_parent(\"div\", class_=re.compile(\"oil_price_colum_name_(odd|even)\"))\n",
    "g95_prices = [col.text.strip() for col in g95_row.find_all(\"div\", class_=\"oil_price_colum\")]\n",
    "\n",
    "# ===== หา Effective date =====\n",
    "eff_label = None\n",
    "for div in oil_div.find_all(\"div\", class_=\"oil_price_colum_name\"):\n",
    "    if \"Effective date\" in div.get_text():\n",
    "        eff_label = div\n",
    "        break\n",
    "\n",
    "eff_row = eff_label.find_parent(\"div\", class_=re.compile(\"oil_price_colum_name_(odd|even)\"))\n",
    "eff_dates = [col.text.strip() for col in eff_row.find_all(\"div\", class_=\"oil_price_colum\")]\n",
    "\n",
    "# ===== Mapping 3 ปั๊ม =====\n",
    "stations = [\"PTT\", \"Bangchak\", \"Shell\"]\n",
    "indices = [0, 1, 2]\n",
    "\n",
    "result = {\n",
    "    \"date\": date,\n",
    "    \"data\": {\n",
    "        station: {\n",
    "            \"price_gasohol_95\": g95_prices[i],\n",
    "            \"effective_date\": eff_dates[i]\n",
    "        }\n",
    "        for station, i in zip(stations, indices)\n",
    "    }\n",
    "}\n",
    "\n",
    "print(result)\n",
    "\n",
    "# วันนี้แบบไม่ใช้ API"
   ]
  },
  {
   "cell_type": "code",
   "execution_count": 50,
   "id": "d2ff19bb",
   "metadata": {},
   "outputs": [
    {
     "name": "stdout",
     "output_type": "stream",
     "text": [
      "✅ บันทึกข้อมูลลงไฟล์ oil_prices.csv เรียบร้อยแล้ว\n"
     ]
    }
   ],
   "source": [
    "rows = []\n",
    "for station, i in zip(stations, indices):\n",
    "    rows.append([\n",
    "        date,          # วันที่ scrape\n",
    "        station,             # ชื่อปั๊ม\n",
    "        g95_prices[i],       # ราคาน้ำมัน Gasohol 95\n",
    "        eff_dates[i]         # Effective date\n",
    "    ])\n",
    "\n",
    "# ===== บันทึก CSV =====\n",
    "with open(\"oil_prices.csv\", \"w\", newline=\"\", encoding=\"utf-8\") as f:\n",
    "    writer = csv.writer(f)\n",
    "    writer.writerow([\"date\", \"station\", \"price_gasohol_95\", \"effective_date\"])\n",
    "    writer.writerows(rows)\n",
    "\n",
    "print(\"✅ บันทึกข้อมูลลงไฟล์ oil_prices.csv เรียบร้อยแล้ว\")"
   ]
  },
  {
   "cell_type": "markdown",
   "id": "cc403fe5",
   "metadata": {},
   "source": [
    "## ย้อนหลัง 3 วัน"
   ]
  },
  {
   "cell_type": "code",
   "execution_count": 51,
   "id": "9d7a3b46",
   "metadata": {},
   "outputs": [],
   "source": [
    "def scrape_price(date_str):\n",
    "    \"\"\"Scrape ราคาน้ำมันจาก eppo_oil_gen_new.php ตามวันที่ที่กำหนด (dd/mm/yyyy)\"\"\"\n",
    "    url = f\"http://www.eppo.go.th/epposite/templates/eppo_v15_mixed/eppo_oil/eppo_oil_gen_new.php?TbxToDate={date_str}\"\n",
    "    driver = webdriver.Chrome()\n",
    "    driver.get(url)\n",
    "    time.sleep(2)\n",
    "\n",
    "    soup = BeautifulSoup(driver.page_source, \"html.parser\")\n",
    "    driver.quit()\n",
    "\n",
    "    oil_div = soup.find(\"div\", class_=\"div_oil_price\")\n",
    "\n",
    "    # ===== หา Gasohol 95 =====\n",
    "    g95_img = oil_div.find(\"img\", {\"src\": re.compile(\"oil_name2.png\")})\n",
    "    g95_row = g95_img.find_parent(\"div\", class_=re.compile(\"oil_price_colum_name_(odd|even)\"))\n",
    "    g95_prices = [col.text.strip() for col in g95_row.find_all(\"div\", class_=\"oil_price_colum\")]\n",
    "\n",
    "    # ===== หา Effective date =====\n",
    "    eff_label = None\n",
    "    for div in oil_div.find_all(\"div\", class_=\"oil_price_colum_name\"):\n",
    "        if \"Effective date\" in div.get_text():\n",
    "            eff_label = div\n",
    "            break\n",
    "    eff_row = eff_label.find_parent(\"div\", class_=re.compile(\"oil_price_colum_name_(odd|even)\"))\n",
    "    eff_dates = [col.text.strip() for col in eff_row.find_all(\"div\", class_=\"oil_price_colum\")]\n",
    "\n",
    "    stations = [\"PTT\", \"Bangchak\", \"Shell\"]\n",
    "    indices = [0, 1, 2]\n",
    "\n",
    "    # แปลง date เป็น ISO\n",
    "    date = datetime.strptime(date_str, \"%d/%m/%Y\").strftime(\"%Y-%m-%d\")\n",
    "    year = date.split(\"-\")[0]\n",
    "\n",
    "    # แปลง effective_date\n",
    "    eff_dates_iso = []\n",
    "    for eff in eff_dates:\n",
    "        if eff == \"-\":\n",
    "            eff_dates_iso.append(\"\")\n",
    "        else:\n",
    "            eff_dt = datetime.strptime(f\"{eff} {year}\", \"%d %b %H:%M %Y\")\n",
    "            eff_dates_iso.append(eff_dt.strftime(\"%Y-%m-%d %H:%M\"))\n",
    "\n",
    "    result = []\n",
    "    for station, i in zip(stations, indices):\n",
    "        result.append({\n",
    "            \"date\": date,\n",
    "            \"station\": station,\n",
    "            \"price_gasohol_95\": g95_prices[i],\n",
    "            \"effective_date\": eff_dates_iso[i]\n",
    "        })\n",
    "    return result\n",
    "\n",
    "\n",
    "# ====== scrap ย้อนหลัง 3 วันจาก \"วันนี้\" ======\n",
    "today = date.today()   # ✅ ใช้วันที่ปัจจุบันแบบ real time\n",
    "all_data = []\n",
    "\n",
    "for i in range(1,4):\n",
    "    day = today - timedelta(days=i)\n",
    "    date_str = day.strftime(\"%d/%m/%Y\")\n",
    "    all_data.extend(scrape_price(date_str))\n"
   ]
  },
  {
   "cell_type": "code",
   "execution_count": null,
   "id": "f88a036e",
   "metadata": {},
   "outputs": [
    {
     "name": "stdout",
     "output_type": "stream",
     "text": [
      "✅ เก็บข้อมูล 9 แถว จาก 2025-09-07 ย้อนหลัง 3 วัน บันทึกลง oil_prices.csv แล้ว\n"
     ]
    }
   ],
   "source": [
    "# ====== บันทึก CSV ======\n",
    "file_name = \"oil_prices.csv\"\n",
    "file_exists = os.path.isfile(file_name)\n",
    "\n",
    "with open(file_name, \"a\", newline=\"\", encoding=\"utf-8\") as f:\n",
    "    writer = csv.DictWriter(f, fieldnames=[\"date\", \"station\", \"price_gasohol_95\", \"effective_date\"])\n",
    "    if not file_exists:\n",
    "        writer.writeheader()\n",
    "    writer.writerows(all_data)\n",
    "\n",
    "print(f\"✅ เก็บข้อมูล {len(all_data)} แถว จาก {today} ย้อนหลัง 3 วัน บันทึกลง oil_prices.csv แล้ว\")"
   ]
  },
  {
   "cell_type": "code",
   "execution_count": null,
   "id": "7a2f56b6",
   "metadata": {},
   "outputs": [],
   "source": []
  }
 ],
 "metadata": {
  "kernelspec": {
   "display_name": "programs",
   "language": "python",
   "name": "python3"
  },
  "language_info": {
   "codemirror_mode": {
    "name": "ipython",
    "version": 3
   },
   "file_extension": ".py",
   "mimetype": "text/x-python",
   "name": "python",
   "nbconvert_exporter": "python",
   "pygments_lexer": "ipython3",
   "version": "3.11.2"
  }
 },
 "nbformat": 4,
 "nbformat_minor": 5
}
